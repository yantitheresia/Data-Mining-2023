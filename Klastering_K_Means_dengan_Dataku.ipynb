{
  "nbformat": 4,
  "nbformat_minor": 0,
  "metadata": {
    "colab": {
      "provenance": [],
      "authorship_tag": "ABX9TyO00axPV0QjYbnZOwODuAiC",
      "include_colab_link": true
    },
    "kernelspec": {
      "name": "python3",
      "display_name": "Python 3"
    },
    "language_info": {
      "name": "python"
    }
  },
  "cells": [
    {
      "cell_type": "markdown",
      "metadata": {
        "id": "view-in-github",
        "colab_type": "text"
      },
      "source": [
        "<a href=\"https://colab.research.google.com/github/yantitheresia/Data-Mining-2023/blob/main/Klastering_K_Means_dengan_Dataku.ipynb\" target=\"_parent\"><img src=\"https://colab.research.google.com/assets/colab-badge.svg\" alt=\"Open In Colab\"/></a>"
      ]
    },
    {
      "cell_type": "code",
      "execution_count": 1,
      "metadata": {
        "id": "rAqIvWBNM5-h"
      },
      "outputs": [],
      "source": [
        "#import library yang dibutuhkan\n",
        "import numpy as np\n",
        "from matplotlib.pyplot import cm\n",
        "import time\n",
        "import itertools"
      ]
    },
    {
      "cell_type": "code",
      "source": [
        "#baca dataset dari file\n",
        "datasetPath = \"dataku.txt\"\n",
        "dataset = np.loadtxt(datasetPath, delimiter=\" \")"
      ],
      "metadata": {
        "id": "QQ8aES-YPPEV"
      },
      "execution_count": 9,
      "outputs": []
    },
    {
      "cell_type": "code",
      "source": [
        "#mendefinisikan parameter k-means klustering\n",
        "k = 2 #jumlah klaster yg diinginkan\n",
        "iterationCounter = 0 #counter untuk iterasi\n",
        "input = dataset #input data"
      ],
      "metadata": {
        "id": "xLxEuJL-PppE"
      },
      "execution_count": 10,
      "outputs": []
    },
    {
      "cell_type": "code",
      "source": [
        "#fungsi untuk inisialisasi titik pusat klaster (random)\n",
        "def initCentroid(dataIn, k):\n",
        "  result = dataIn[np.random.choice(dataIn.shape[0], k, replace=False)]\n",
        "  return result"
      ],
      "metadata": {
        "id": "P5lyjPqCP-Yh"
      },
      "execution_count": 11,
      "outputs": []
    },
    {
      "cell_type": "code",
      "source": [
        "#fungsi untuk plot hasil klaster per iteraasi\n",
        "def plotClusterResult(listClusterMembers, centroid, iteration, converged):\n",
        "  n = listClusterMembers.__len__()\n",
        "  color = iter(cm.rainbow(np.linspace(0, 1, n)))\n",
        "  plt.figure(\"result\")\n",
        "  plt.clf()\n",
        "  plt.title(\"iteration-\" + iteration)\n",
        "  marker = itertools.cycle(('.', '*', '^', 'x', '+'))\n",
        "  for i in range(n):\n",
        "    col = next(color)\n",
        "    memberCluster = np.asmatrix(listClusterMembers[i])\n",
        "    plt.scatter(np.ravel(memberCluster[:, 0]), np.ravel(memberCluster[:, 1]),\n",
        "                marker=marker.__next__(), s=100, c=col, label=\"klaster-\"+str(i+1))\n",
        "  for i in range(n):\n",
        "    plt.scatter((centroid[i, 0]), (centroid[i, 1]), marker=marker.__next__(),\n",
        "                c=col, label=\"centroid-\" + str(i + 1))\n",
        "  if(converged == 0):\n",
        "    plt.legend()\n",
        "    plt.ion()\n",
        "    plt.show()\n",
        "    plt.pause(0.1)\n",
        "  if (converged == 1):\n",
        "    plt.legend()\n",
        "    plt.show(block=True)"
      ],
      "metadata": {
        "id": "WpIXcWouQX8T"
      },
      "execution_count": 12,
      "outputs": []
    },
    {
      "cell_type": "code",
      "source": [
        "#fungsi utama algoritma k-means\n",
        "def kMeans(data, centroidInit):\n",
        "  nCluster = k #banyaknya klaster\n",
        "  global iterationCounter\n",
        "  centroidInit = np.matrix(centroidInit)\n",
        "  #looping hingga konvergen\n",
        "  while(True):\n",
        "    iterationCounter +=1\n",
        "    euclideanMatrixAllCluster = np.ndarray(shape=(data.shape[0], 0))\n",
        "    #ulangi proses untuk semua klaster\n",
        "    for i in range(0, nCluster):\n",
        "      centroidRepeated = np.repeat(centroidInit[i,:], data.shape[0], axis=0)\n",
        "      deltaMatrix = abs(np.subtract(data, centroidRepeated))\n",
        "      #hitung jarak Euclidean\n",
        "      euclideanMatrix = np.sqrt(np.square(deltaMatrix).sum(axis=1))\n",
        "      euclideanMatrixAllCluster = \\\n",
        "         np.concatenate((euclideanMatrixAllCluster, euclideanMatrix), axis=1)\n",
        "    #tempatkan data ke klaster yang jarak Euclideannya plg dekat\n",
        "    clusterMatrix = np.ravel(np.argin(np.matrix(euclideanMatrixAllCluster), axis=1))\n",
        "    listClusterMember = [[] for i in range(k)]\n",
        "    for i in range(0, data.shape[0]): #assign data to cluster regarding cluster matrix\n",
        "        listClusterMember[np.asscalar(clusterMatrix[i])].append(data[i, :])\n",
        "    #hitung titik pusat klaster terbaru\n",
        "    newCentroid = np.ndarray(shape=(0, centroidInit.shape[1]))\n",
        "    for i in range(0,nCluster):\n",
        "      memberCluster = np.asmatrix(listClusterMember[i])\n",
        "      centoridCluster = memberCluster.mean(axis=0)\n",
        "      newCentroid = np.concatenate((newCentroid, centroidCluster), axis=0)\n",
        "    print(\"iter: \", iterationCounter)\n",
        "    print(\"centroid: \", newCentroid)\n",
        "    #break dari loop jika sudah konvergen\n",
        "    if((centroidInit == newCentroid).all()):\n",
        "      break\n",
        "    #update titik pusat klaster dengan nilai yg baru\n",
        "    centroidInit = newCentroid\n",
        "    #plot hasil klaster per iterasi\n",
        "    plotClusterResult(listClusterMember, centroidInit, str(iterationCounter), 0)\n",
        "    time.sleep(1) #diberi jeda 1 detik agak hasil plot klaster nyaman dilihat\n",
        "  return listClusterMember, centroidInit\n"
      ],
      "metadata": {
        "id": "VZPczqFzS0pE"
      },
      "execution_count": 13,
      "outputs": []
    },
    {
      "cell_type": "code",
      "source": [
        "#panggil fungsi inisialisasi klaster\n",
        "centroidInit = initCentroid(input, k)\n",
        "#panggil fungsi k-means\n",
        "clusterResults, centroid = kMeans(input, centroidInit)\n",
        "#plot hasil final klaster setelah konvergen\n",
        "plotClusterResult(clusterResults, centroid, str(iterationCounter) + \" (converged)\", 1)"
      ],
      "metadata": {
        "id": "VQrDSXSOZzP1"
      },
      "execution_count": null,
      "outputs": []
    }
  ]
}